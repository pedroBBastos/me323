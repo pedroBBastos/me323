{
 "cells": [
  {
   "cell_type": "markdown",
   "metadata": {},
   "source": [
    "Nomes: Gabriel Volpato Giliotti    RA:197569                          \n",
    "       Pedro Barros Bastos         RA:204481     \n",
    "\n",
    "## Simulação: Porta dos Desesperados\n",
    "\n",
    "Esta é uma simulação do evento Porta dos desesperados, onde plotamos os graficos de proporções de vitorias referentes ao evento de se trocar ou nao a porta escolhida inicialmente. Numero de ocorrencia do evento testados: 1000 vezes.\n",
    "\n",
    "Linguagem utilizada: python3\n",
    "\n",
    "Os graficos apresentados devem ser lidos da seguinte maneira:\n",
    "\n",
    "       Eixo X = Numero de eventos simulados (No caso, fizemos para 1000 vezes)\n",
    "       Eixo Y = Proporção acumulada de Vitorias (em Porcentagem)\n",
    "       \n",
    "* O Bloco 1 apresenta o codigo para simular o numero de vitorias quando o competidor troca a porta inicialmente escolhida por outra e gera o grafico de proporção acumulada.     \n",
    "\n",
    "* O Bloco 2 apresenta o codigo para simular o numero de vitorias quando o competidor nao troca a porta inicialmente escolhida por outra e gera o grafico de proporção acumulada."
   ]
  },
  {
   "cell_type": "markdown",
   "metadata": {},
   "source": [
    "# Bloco 1:"
   ]
  },
  {
   "cell_type": "code",
   "execution_count": 4,
   "metadata": {},
   "outputs": [
    {
     "data": {
      "image/png": "[encoded data removed]",
      "text/plain": [
       "<Figure size 432x288 with 1 Axes>"
      ]
     },
     "metadata": {
      "needs_background": "light"
     },
     "output_type": "display_data"
    }
   ],
   "source": [
    "import random\n",
    "import matplotlib.pyplot as plt\n",
    "\n",
    "class PortaDosDesesperados:\n",
    "    def __init__(self):\n",
    "        self.porta_premiada = self.pega_porta()\n",
    "        self.porta_selecionada = None\n",
    "        self.porta_removida = None\n",
    "\n",
    "    def pega_porta(self):\n",
    "        return random.randint(1,3)\n",
    "\n",
    "    def seleciona_porta(self):\n",
    "        self.porta_selecionada = self.pega_porta()\n",
    "\n",
    "    def remove_porta(self):\n",
    "        d = self.pega_porta()\n",
    "        while d == self.porta_selecionada or d == self.porta_premiada:\n",
    "            d = self.pega_porta()\n",
    "        self.porta_removida = d\n",
    "\n",
    "    def troca_escolhida(self):\n",
    "        self.porta_selecionada = 6 - self.porta_selecionada - self.porta_removida\n",
    "\n",
    "    def competidor_vencedor(self):\n",
    "        if self.porta_selecionada == self.porta_premiada:\n",
    "            return True\n",
    "        else:\n",
    "            return False\n",
    "\n",
    "    def inicia_jogo(self, troca=True):\n",
    "        self.seleciona_porta()\n",
    "        self.remove_porta()\n",
    "        if troca:\n",
    "            self.troca_escolhida()\n",
    "        return self.competidor_vencedor()\n",
    "\n",
    "n = 1000\n",
    "probs = []\n",
    "x = list(range(n))\n",
    "for qtdPlays in range(1, n+1):\n",
    "    venceu, perdeu = 0, 0\n",
    "    for i in range(qtdPlays):\n",
    "        p = PortaDosDesesperados()\n",
    "        if p.inicia_jogo(True):\n",
    "            venceu += 1\n",
    "        else:\n",
    "            perdeu += 1\n",
    "    probs.append(100.0*(venceu/(venceu+perdeu)))\n",
    "\n",
    "plt.scatter(x, probs, marker='_')\n",
    "plt.show()"
   ]
  },
  {
   "cell_type": "markdown",
   "metadata": {},
   "source": [
    "# Bloco 2:"
   ]
  },
  {
   "cell_type": "code",
   "execution_count": 5,
   "metadata": {},
   "outputs": [
    {
     "data": {
      "image/png": "[encoded data removed]",
      "text/plain": [
       "<Figure size 432x288 with 1 Axes>"
      ]
     },
     "metadata": {
      "needs_background": "light"
     },
     "output_type": "display_data"
    }
   ],
   "source": [
    "import random\n",
    "import matplotlib.pyplot as plt\n",
    "\n",
    "class PortaDosDesesperados:\n",
    "    def __init__(self):\n",
    "\n",
    "        self.porta_premiada = self.pega_porta()\n",
    "        self.porta_selecionada = None\n",
    "        self.porta_removida = None\n",
    "\n",
    "    def pega_porta(self):\n",
    "        return random.randint(1,3)\n",
    "\n",
    "    def seleciona_porta(self):\n",
    "        self.porta_selecionada = self.pega_porta()\n",
    "\n",
    "    def remove_porta(self):\n",
    "        d = self.pega_porta()\n",
    "        while d == self.porta_selecionada or d == self.porta_premiada:\n",
    "            d = self.pega_porta()\n",
    "        self.porta_removida = d\n",
    "\n",
    "    def troca_escolhida(self):\n",
    "        self.porta_selecionada = 6 - self.porta_selecionada - self.porta_removida\n",
    "\n",
    "    def competidor_vencedor(self):\n",
    "        if self.porta_selecionada == self.porta_premiada:\n",
    "            return True\n",
    "        else:\n",
    "            return False\n",
    "\n",
    "    def inicia_jogo(self, troca=True):\n",
    "        self.seleciona_porta()\n",
    "        self.remove_porta()\n",
    "        if troca:\n",
    "            self.troca_escolhida()\n",
    "        return self.competidor_vencedor()\n",
    "\n",
    "n = 1000\n",
    "probs = []\n",
    "x = list(range(n))\n",
    "for qtdPlays in range(1, n+1):\n",
    "    venceu, perdeu = 0, 0\n",
    "    for i in range(qtdPlays):\n",
    "        p = PortaDosDesesperados()\n",
    "        if p.inicia_jogo(False):\n",
    "            venceu += 1\n",
    "        else:\n",
    "            perdeu += 1\n",
    "    probs.append(100.0*(venceu/(venceu+perdeu)))\n",
    "\n",
    "    \n",
    "    \n",
    "plt.scatter(x, probs, marker='_')\n",
    "plt.show()"
   ]
  }
 ],
 "metadata": {
  "kernelspec": {
   "display_name": "Python 3",
   "language": "python",
   "name": "python3"
  },
  "language_info": {
   "codemirror_mode": {
    "name": "ipython",
    "version": 3
   },
   "file_extension": ".py",
   "mimetype": "text/x-python",
   "name": "python",
   "nbconvert_exporter": "python",
   "pygments_lexer": "ipython3",
   "version": "3.6.7"
  }
 },
 "nbformat": 4,
 "nbformat_minor": 2
}
